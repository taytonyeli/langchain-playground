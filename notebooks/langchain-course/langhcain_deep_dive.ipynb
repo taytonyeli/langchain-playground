{
 "cells": [
  {
   "cell_type": "code",
   "execution_count": 6,
   "id": "6fad51a7-2864-4ff7-8a09-23a159bd1d4f",
   "metadata": {},
   "outputs": [
    {
     "data": {
      "text/plain": [
       "True"
      ]
     },
     "execution_count": 6,
     "metadata": {},
     "output_type": "execute_result"
    }
   ],
   "source": [
    "import os\n",
    "from dotenv import load_dotenv, find_dotenv\n",
    "\n",
    "load_dotenv(find_dotenv(), override=True)"
   ]
  },
  {
   "cell_type": "code",
   "execution_count": 7,
   "id": "4c3d52d0-1c26-44a0-8fe4-c8eded6ba0b5",
   "metadata": {},
   "outputs": [
    {
     "name": "stdout",
     "output_type": "stream",
     "text": [
      "The belief that a previous investment of time, money, or resources justifies continuing with a failing project or endeavor.\n"
     ]
    }
   ],
   "source": [
    "from langchain_openai import ChatOpenAI\n",
    "\n",
    "llm = ChatOpenAI()\n",
    "output = llm.invoke('explain sunk cost fallacy in one sentence')\n",
    "print(output.content)\n",
    "# help(ChatOpenAI)"
   ]
  },
  {
   "cell_type": "markdown",
   "id": "c0860ad5-1c04-4e33-8565-d3f3d15cf7e3",
   "metadata": {},
   "source": [
    "## Additional Params"
   ]
  },
  {
   "cell_type": "code",
   "execution_count": 8,
   "id": "a1494c55-d28c-4bba-bae1-1c77c5fb5634",
   "metadata": {},
   "outputs": [
    {
     "name": "stdout",
     "output_type": "stream",
     "text": [
      "Sunk cost fallacy is the tendency to continue investing time, money, or resources into a project or decision based on past investments, even if it no longer makes sense to do so.\n"
     ]
    }
   ],
   "source": [
    "from langchain.schema import (\n",
    "    SystemMessage,\n",
    "    AIMessage,\n",
    "    HumanMessage)\n",
    "\n",
    "messages = [\n",
    "    SystemMessage(content='You are an HR Manager and respond re-assuringly.'),\n",
    "    HumanMessage(content='explain sunk cost fallacy in one sentence.')\n",
    "]\n",
    "\n",
    "output = llm.invoke(messages)\n",
    "print(output.content)"
   ]
  },
  {
   "cell_type": "markdown",
   "id": "ec58a81e-61eb-4eea-b723-aafd6acd6a3b",
   "metadata": {},
   "source": []
  }
 ],
 "metadata": {
  "kernelspec": {
   "display_name": "Python 3 (ipykernel)",
   "language": "python",
   "name": "python3"
  },
  "language_info": {
   "codemirror_mode": {
    "name": "ipython",
    "version": 3
   },
   "file_extension": ".py",
   "mimetype": "text/x-python",
   "name": "python",
   "nbconvert_exporter": "python",
   "pygments_lexer": "ipython3",
   "version": "3.11.7"
  }
 },
 "nbformat": 4,
 "nbformat_minor": 5
}
